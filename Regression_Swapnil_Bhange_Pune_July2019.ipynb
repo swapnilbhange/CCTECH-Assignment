{
 "cells": [
  {
   "cell_type": "code",
   "execution_count": 1,
   "metadata": {},
   "outputs": [],
   "source": [
    "#importing Libraries\n",
    "import numpy as np\n",
    "import pandas as pd"
   ]
  },
  {
   "cell_type": "code",
   "execution_count": 2,
   "metadata": {},
   "outputs": [],
   "source": [
    "#Locating the path of the file\n",
    "path='C:\\\\Users\\\\Shree\\\\Downloads\\\\CCTech\\\\Regression\\\\dataset.csv'\n",
    "path2='C:\\\\Users\\\\Shree\\\\Downloads\\\\CCTech\\\\Regression\\\\prediction.csv'"
   ]
  },
  {
   "cell_type": "code",
   "execution_count": 3,
   "metadata": {},
   "outputs": [
    {
     "data": {
      "text/html": [
       "<div>\n",
       "<style scoped>\n",
       "    .dataframe tbody tr th:only-of-type {\n",
       "        vertical-align: middle;\n",
       "    }\n",
       "\n",
       "    .dataframe tbody tr th {\n",
       "        vertical-align: top;\n",
       "    }\n",
       "\n",
       "    .dataframe thead th {\n",
       "        text-align: right;\n",
       "    }\n",
       "</style>\n",
       "<table border=\"1\" class=\"dataframe\">\n",
       "  <thead>\n",
       "    <tr style=\"text-align: right;\">\n",
       "      <th></th>\n",
       "      <th>0</th>\n",
       "      <th>1</th>\n",
       "      <th>2</th>\n",
       "      <th>3</th>\n",
       "      <th>4</th>\n",
       "      <th>5</th>\n",
       "      <th>6</th>\n",
       "      <th>7</th>\n",
       "      <th>8</th>\n",
       "      <th>target</th>\n",
       "    </tr>\n",
       "  </thead>\n",
       "  <tbody>\n",
       "    <tr>\n",
       "      <th>0</th>\n",
       "      <td>7.547600</td>\n",
       "      <td>0.151261</td>\n",
       "      <td>557.132466</td>\n",
       "      <td>354.008599</td>\n",
       "      <td>0.301029</td>\n",
       "      <td>55.282594</td>\n",
       "      <td>9635.211683</td>\n",
       "      <td>2.0</td>\n",
       "      <td>1.0</td>\n",
       "      <td>9461.469590</td>\n",
       "    </tr>\n",
       "    <tr>\n",
       "      <th>1</th>\n",
       "      <td>3.140491</td>\n",
       "      <td>0.794497</td>\n",
       "      <td>837.116189</td>\n",
       "      <td>104.515774</td>\n",
       "      <td>0.110622</td>\n",
       "      <td>88.516243</td>\n",
       "      <td>9425.041942</td>\n",
       "      <td>2.0</td>\n",
       "      <td>5.0</td>\n",
       "      <td>10257.271938</td>\n",
       "    </tr>\n",
       "    <tr>\n",
       "      <th>2</th>\n",
       "      <td>2.064447</td>\n",
       "      <td>0.236500</td>\n",
       "      <td>313.757354</td>\n",
       "      <td>259.127993</td>\n",
       "      <td>0.729964</td>\n",
       "      <td>88.350465</td>\n",
       "      <td>9115.661199</td>\n",
       "      <td>1.0</td>\n",
       "      <td>5.0</td>\n",
       "      <td>8719.214483</td>\n",
       "    </tr>\n",
       "    <tr>\n",
       "      <th>3</th>\n",
       "      <td>9.099262</td>\n",
       "      <td>0.453953</td>\n",
       "      <td>661.409826</td>\n",
       "      <td>466.070226</td>\n",
       "      <td>0.432750</td>\n",
       "      <td>21.516152</td>\n",
       "      <td>9584.310016</td>\n",
       "      <td>3.0</td>\n",
       "      <td>2.0</td>\n",
       "      <td>9165.197338</td>\n",
       "    </tr>\n",
       "    <tr>\n",
       "      <th>4</th>\n",
       "      <td>5.264564</td>\n",
       "      <td>0.683869</td>\n",
       "      <td>344.154511</td>\n",
       "      <td>485.441053</td>\n",
       "      <td>0.085599</td>\n",
       "      <td>90.308205</td>\n",
       "      <td>9193.271575</td>\n",
       "      <td>2.0</td>\n",
       "      <td>1.0</td>\n",
       "      <td>9458.427537</td>\n",
       "    </tr>\n",
       "  </tbody>\n",
       "</table>\n",
       "</div>"
      ],
      "text/plain": [
       "          0         1           2           3         4          5  \\\n",
       "0  7.547600  0.151261  557.132466  354.008599  0.301029  55.282594   \n",
       "1  3.140491  0.794497  837.116189  104.515774  0.110622  88.516243   \n",
       "2  2.064447  0.236500  313.757354  259.127993  0.729964  88.350465   \n",
       "3  9.099262  0.453953  661.409826  466.070226  0.432750  21.516152   \n",
       "4  5.264564  0.683869  344.154511  485.441053  0.085599  90.308205   \n",
       "\n",
       "             6    7    8        target  \n",
       "0  9635.211683  2.0  1.0   9461.469590  \n",
       "1  9425.041942  2.0  5.0  10257.271938  \n",
       "2  9115.661199  1.0  5.0   8719.214483  \n",
       "3  9584.310016  3.0  2.0   9165.197338  \n",
       "4  9193.271575  2.0  1.0   9458.427537  "
      ]
     },
     "execution_count": 3,
     "metadata": {},
     "output_type": "execute_result"
    }
   ],
   "source": [
    "#Reading the train data file\n",
    "train = pd.read_csv(path)\n",
    "train.head()"
   ]
  },
  {
   "cell_type": "code",
   "execution_count": 4,
   "metadata": {},
   "outputs": [
    {
     "data": {
      "text/html": [
       "<div>\n",
       "<style scoped>\n",
       "    .dataframe tbody tr th:only-of-type {\n",
       "        vertical-align: middle;\n",
       "    }\n",
       "\n",
       "    .dataframe tbody tr th {\n",
       "        vertical-align: top;\n",
       "    }\n",
       "\n",
       "    .dataframe thead th {\n",
       "        text-align: right;\n",
       "    }\n",
       "</style>\n",
       "<table border=\"1\" class=\"dataframe\">\n",
       "  <thead>\n",
       "    <tr style=\"text-align: right;\">\n",
       "      <th></th>\n",
       "      <th>0</th>\n",
       "      <th>1</th>\n",
       "      <th>2</th>\n",
       "      <th>3</th>\n",
       "      <th>4</th>\n",
       "      <th>5</th>\n",
       "      <th>6</th>\n",
       "      <th>7</th>\n",
       "      <th>8</th>\n",
       "    </tr>\n",
       "  </thead>\n",
       "  <tbody>\n",
       "    <tr>\n",
       "      <th>0</th>\n",
       "      <td>8.243945</td>\n",
       "      <td>0.442707</td>\n",
       "      <td>814.191463</td>\n",
       "      <td>437.449497</td>\n",
       "      <td>0.820757</td>\n",
       "      <td>66.358208</td>\n",
       "      <td>9321.584760</td>\n",
       "      <td>1.0</td>\n",
       "      <td>5.0</td>\n",
       "    </tr>\n",
       "    <tr>\n",
       "      <th>1</th>\n",
       "      <td>0.450469</td>\n",
       "      <td>0.734878</td>\n",
       "      <td>690.536337</td>\n",
       "      <td>337.971868</td>\n",
       "      <td>0.163483</td>\n",
       "      <td>88.966042</td>\n",
       "      <td>9653.465215</td>\n",
       "      <td>2.0</td>\n",
       "      <td>3.0</td>\n",
       "    </tr>\n",
       "    <tr>\n",
       "      <th>2</th>\n",
       "      <td>5.805761</td>\n",
       "      <td>0.412531</td>\n",
       "      <td>225.544432</td>\n",
       "      <td>468.295427</td>\n",
       "      <td>0.254678</td>\n",
       "      <td>27.853712</td>\n",
       "      <td>9840.535247</td>\n",
       "      <td>2.0</td>\n",
       "      <td>3.0</td>\n",
       "    </tr>\n",
       "    <tr>\n",
       "      <th>3</th>\n",
       "      <td>4.126340</td>\n",
       "      <td>0.685302</td>\n",
       "      <td>73.330815</td>\n",
       "      <td>169.578437</td>\n",
       "      <td>0.828849</td>\n",
       "      <td>81.691968</td>\n",
       "      <td>9044.806270</td>\n",
       "      <td>2.0</td>\n",
       "      <td>5.0</td>\n",
       "    </tr>\n",
       "    <tr>\n",
       "      <th>4</th>\n",
       "      <td>8.082666</td>\n",
       "      <td>0.449977</td>\n",
       "      <td>526.274384</td>\n",
       "      <td>308.148895</td>\n",
       "      <td>0.737136</td>\n",
       "      <td>30.420377</td>\n",
       "      <td>9916.538668</td>\n",
       "      <td>1.0</td>\n",
       "      <td>5.0</td>\n",
       "    </tr>\n",
       "  </tbody>\n",
       "</table>\n",
       "</div>"
      ],
      "text/plain": [
       "          0         1           2           3         4          5  \\\n",
       "0  8.243945  0.442707  814.191463  437.449497  0.820757  66.358208   \n",
       "1  0.450469  0.734878  690.536337  337.971868  0.163483  88.966042   \n",
       "2  5.805761  0.412531  225.544432  468.295427  0.254678  27.853712   \n",
       "3  4.126340  0.685302   73.330815  169.578437  0.828849  81.691968   \n",
       "4  8.082666  0.449977  526.274384  308.148895  0.737136  30.420377   \n",
       "\n",
       "             6    7    8  \n",
       "0  9321.584760  1.0  5.0  \n",
       "1  9653.465215  2.0  3.0  \n",
       "2  9840.535247  2.0  3.0  \n",
       "3  9044.806270  2.0  5.0  \n",
       "4  9916.538668  1.0  5.0  "
      ]
     },
     "execution_count": 4,
     "metadata": {},
     "output_type": "execute_result"
    }
   ],
   "source": [
    "#Reading the testing data file\n",
    "test = pd.read_csv(path2)\n",
    "test.head()"
   ]
  },
  {
   "cell_type": "code",
   "execution_count": 5,
   "metadata": {},
   "outputs": [
    {
     "name": "stdout",
     "output_type": "stream",
     "text": [
      "<class 'pandas.core.frame.DataFrame'>\n",
      "RangeIndex: 900 entries, 0 to 899\n",
      "Data columns (total 10 columns):\n",
      "0         900 non-null float64\n",
      "1         900 non-null float64\n",
      "2         900 non-null float64\n",
      "3         900 non-null float64\n",
      "4         900 non-null float64\n",
      "5         900 non-null float64\n",
      "6         900 non-null float64\n",
      "7         900 non-null float64\n",
      "8         900 non-null float64\n",
      "target    900 non-null float64\n",
      "dtypes: float64(10)\n",
      "memory usage: 70.4 KB\n"
     ]
    }
   ],
   "source": [
    "#Checking the data type of \n",
    "train.info()"
   ]
  },
  {
   "cell_type": "code",
   "execution_count": 6,
   "metadata": {},
   "outputs": [
    {
     "name": "stdout",
     "output_type": "stream",
     "text": [
      "<class 'pandas.core.frame.DataFrame'>\n",
      "RangeIndex: 100 entries, 0 to 99\n",
      "Data columns (total 9 columns):\n",
      "0    100 non-null float64\n",
      "1    100 non-null float64\n",
      "2    100 non-null float64\n",
      "3    100 non-null float64\n",
      "4    100 non-null float64\n",
      "5    100 non-null float64\n",
      "6    100 non-null float64\n",
      "7    100 non-null float64\n",
      "8    100 non-null float64\n",
      "dtypes: float64(9)\n",
      "memory usage: 7.1 KB\n"
     ]
    }
   ],
   "source": [
    "test.info()"
   ]
  },
  {
   "cell_type": "code",
   "execution_count": 7,
   "metadata": {},
   "outputs": [
    {
     "data": {
      "text/plain": [
       "0         0\n",
       "1         0\n",
       "2         0\n",
       "3         0\n",
       "4         0\n",
       "5         0\n",
       "6         0\n",
       "7         0\n",
       "8         0\n",
       "target    0\n",
       "dtype: int64"
      ]
     },
     "execution_count": 7,
     "metadata": {},
     "output_type": "execute_result"
    }
   ],
   "source": [
    "#check for null Values\n",
    "train.isnull().sum()"
   ]
  },
  {
   "cell_type": "code",
   "execution_count": 8,
   "metadata": {},
   "outputs": [
    {
     "data": {
      "text/plain": [
       "0    0\n",
       "1    0\n",
       "2    0\n",
       "3    0\n",
       "4    0\n",
       "5    0\n",
       "6    0\n",
       "7    0\n",
       "8    0\n",
       "dtype: int64"
      ]
     },
     "execution_count": 8,
     "metadata": {},
     "output_type": "execute_result"
    }
   ],
   "source": [
    "test.isnull().sum()"
   ]
  },
  {
   "cell_type": "code",
   "execution_count": 9,
   "metadata": {
    "scrolled": true
   },
   "outputs": [
    {
     "data": {
      "text/html": [
       "<div>\n",
       "<style scoped>\n",
       "    .dataframe tbody tr th:only-of-type {\n",
       "        vertical-align: middle;\n",
       "    }\n",
       "\n",
       "    .dataframe tbody tr th {\n",
       "        vertical-align: top;\n",
       "    }\n",
       "\n",
       "    .dataframe thead th {\n",
       "        text-align: right;\n",
       "    }\n",
       "</style>\n",
       "<table border=\"1\" class=\"dataframe\">\n",
       "  <thead>\n",
       "    <tr style=\"text-align: right;\">\n",
       "      <th></th>\n",
       "      <th>0</th>\n",
       "      <th>1</th>\n",
       "      <th>2</th>\n",
       "      <th>3</th>\n",
       "      <th>4</th>\n",
       "      <th>5</th>\n",
       "      <th>6</th>\n",
       "      <th>7</th>\n",
       "      <th>8</th>\n",
       "      <th>target</th>\n",
       "    </tr>\n",
       "  </thead>\n",
       "  <tbody>\n",
       "    <tr>\n",
       "      <th>count</th>\n",
       "      <td>900.000000</td>\n",
       "      <td>900.000000</td>\n",
       "      <td>900.000000</td>\n",
       "      <td>900.000000</td>\n",
       "      <td>900.000000</td>\n",
       "      <td>900.000000</td>\n",
       "      <td>900.000000</td>\n",
       "      <td>900.000000</td>\n",
       "      <td>900.000000</td>\n",
       "      <td>900.000000</td>\n",
       "    </tr>\n",
       "    <tr>\n",
       "      <th>mean</th>\n",
       "      <td>5.036548</td>\n",
       "      <td>0.504976</td>\n",
       "      <td>493.064463</td>\n",
       "      <td>297.303826</td>\n",
       "      <td>0.507925</td>\n",
       "      <td>49.781970</td>\n",
       "      <td>9507.426024</td>\n",
       "      <td>1.973333</td>\n",
       "      <td>3.436667</td>\n",
       "      <td>9118.263873</td>\n",
       "    </tr>\n",
       "    <tr>\n",
       "      <th>std</th>\n",
       "      <td>2.869018</td>\n",
       "      <td>0.289803</td>\n",
       "      <td>290.436017</td>\n",
       "      <td>116.899846</td>\n",
       "      <td>0.286008</td>\n",
       "      <td>28.684840</td>\n",
       "      <td>283.069448</td>\n",
       "      <td>0.788798</td>\n",
       "      <td>1.677367</td>\n",
       "      <td>852.633238</td>\n",
       "    </tr>\n",
       "    <tr>\n",
       "      <th>min</th>\n",
       "      <td>0.037452</td>\n",
       "      <td>0.000942</td>\n",
       "      <td>0.969406</td>\n",
       "      <td>100.651192</td>\n",
       "      <td>0.000527</td>\n",
       "      <td>0.185411</td>\n",
       "      <td>9000.096807</td>\n",
       "      <td>1.000000</td>\n",
       "      <td>1.000000</td>\n",
       "      <td>6298.862662</td>\n",
       "    </tr>\n",
       "    <tr>\n",
       "      <th>25%</th>\n",
       "      <td>2.518373</td>\n",
       "      <td>0.248575</td>\n",
       "      <td>247.145068</td>\n",
       "      <td>195.239150</td>\n",
       "      <td>0.284926</td>\n",
       "      <td>25.777689</td>\n",
       "      <td>9267.721916</td>\n",
       "      <td>1.000000</td>\n",
       "      <td>2.000000</td>\n",
       "      <td>8627.098283</td>\n",
       "    </tr>\n",
       "    <tr>\n",
       "      <th>50%</th>\n",
       "      <td>4.944200</td>\n",
       "      <td>0.524393</td>\n",
       "      <td>497.186526</td>\n",
       "      <td>301.949065</td>\n",
       "      <td>0.501211</td>\n",
       "      <td>49.517510</td>\n",
       "      <td>9500.814515</td>\n",
       "      <td>2.000000</td>\n",
       "      <td>3.000000</td>\n",
       "      <td>9208.588416</td>\n",
       "    </tr>\n",
       "    <tr>\n",
       "      <th>75%</th>\n",
       "      <td>7.631981</td>\n",
       "      <td>0.753136</td>\n",
       "      <td>736.572313</td>\n",
       "      <td>399.999965</td>\n",
       "      <td>0.750584</td>\n",
       "      <td>74.538269</td>\n",
       "      <td>9751.394987</td>\n",
       "      <td>3.000000</td>\n",
       "      <td>5.000000</td>\n",
       "      <td>9713.801784</td>\n",
       "    </tr>\n",
       "    <tr>\n",
       "      <th>max</th>\n",
       "      <td>9.997094</td>\n",
       "      <td>0.998795</td>\n",
       "      <td>999.208515</td>\n",
       "      <td>499.174221</td>\n",
       "      <td>0.999742</td>\n",
       "      <td>99.926403</td>\n",
       "      <td>9999.499080</td>\n",
       "      <td>3.000000</td>\n",
       "      <td>6.000000</td>\n",
       "      <td>11175.834533</td>\n",
       "    </tr>\n",
       "  </tbody>\n",
       "</table>\n",
       "</div>"
      ],
      "text/plain": [
       "                0           1           2           3           4           5  \\\n",
       "count  900.000000  900.000000  900.000000  900.000000  900.000000  900.000000   \n",
       "mean     5.036548    0.504976  493.064463  297.303826    0.507925   49.781970   \n",
       "std      2.869018    0.289803  290.436017  116.899846    0.286008   28.684840   \n",
       "min      0.037452    0.000942    0.969406  100.651192    0.000527    0.185411   \n",
       "25%      2.518373    0.248575  247.145068  195.239150    0.284926   25.777689   \n",
       "50%      4.944200    0.524393  497.186526  301.949065    0.501211   49.517510   \n",
       "75%      7.631981    0.753136  736.572313  399.999965    0.750584   74.538269   \n",
       "max      9.997094    0.998795  999.208515  499.174221    0.999742   99.926403   \n",
       "\n",
       "                 6           7           8        target  \n",
       "count   900.000000  900.000000  900.000000    900.000000  \n",
       "mean   9507.426024    1.973333    3.436667   9118.263873  \n",
       "std     283.069448    0.788798    1.677367    852.633238  \n",
       "min    9000.096807    1.000000    1.000000   6298.862662  \n",
       "25%    9267.721916    1.000000    2.000000   8627.098283  \n",
       "50%    9500.814515    2.000000    3.000000   9208.588416  \n",
       "75%    9751.394987    3.000000    5.000000   9713.801784  \n",
       "max    9999.499080    3.000000    6.000000  11175.834533  "
      ]
     },
     "execution_count": 9,
     "metadata": {},
     "output_type": "execute_result"
    }
   ],
   "source": [
    "#Statistical Summary\n",
    "train.describe()"
   ]
  },
  {
   "cell_type": "code",
   "execution_count": 10,
   "metadata": {
    "scrolled": true
   },
   "outputs": [
    {
     "data": {
      "text/html": [
       "<div>\n",
       "<style scoped>\n",
       "    .dataframe tbody tr th:only-of-type {\n",
       "        vertical-align: middle;\n",
       "    }\n",
       "\n",
       "    .dataframe tbody tr th {\n",
       "        vertical-align: top;\n",
       "    }\n",
       "\n",
       "    .dataframe thead th {\n",
       "        text-align: right;\n",
       "    }\n",
       "</style>\n",
       "<table border=\"1\" class=\"dataframe\">\n",
       "  <thead>\n",
       "    <tr style=\"text-align: right;\">\n",
       "      <th></th>\n",
       "      <th>0</th>\n",
       "      <th>1</th>\n",
       "      <th>2</th>\n",
       "      <th>3</th>\n",
       "      <th>4</th>\n",
       "      <th>5</th>\n",
       "      <th>6</th>\n",
       "      <th>7</th>\n",
       "      <th>8</th>\n",
       "    </tr>\n",
       "  </thead>\n",
       "  <tbody>\n",
       "    <tr>\n",
       "      <th>count</th>\n",
       "      <td>100.000000</td>\n",
       "      <td>100.000000</td>\n",
       "      <td>100.000000</td>\n",
       "      <td>100.000000</td>\n",
       "      <td>100.000000</td>\n",
       "      <td>100.000000</td>\n",
       "      <td>100.000000</td>\n",
       "      <td>100.00000</td>\n",
       "      <td>100.000000</td>\n",
       "    </tr>\n",
       "    <tr>\n",
       "      <th>mean</th>\n",
       "      <td>5.191798</td>\n",
       "      <td>0.536342</td>\n",
       "      <td>522.154169</td>\n",
       "      <td>314.905236</td>\n",
       "      <td>0.484854</td>\n",
       "      <td>48.698193</td>\n",
       "      <td>9491.445407</td>\n",
       "      <td>2.06000</td>\n",
       "      <td>3.420000</td>\n",
       "    </tr>\n",
       "    <tr>\n",
       "      <th>std</th>\n",
       "      <td>2.751991</td>\n",
       "      <td>0.297750</td>\n",
       "      <td>309.604052</td>\n",
       "      <td>119.889297</td>\n",
       "      <td>0.279095</td>\n",
       "      <td>28.582162</td>\n",
       "      <td>300.825734</td>\n",
       "      <td>0.83871</td>\n",
       "      <td>1.664726</td>\n",
       "    </tr>\n",
       "    <tr>\n",
       "      <th>min</th>\n",
       "      <td>0.017658</td>\n",
       "      <td>0.004809</td>\n",
       "      <td>3.468755</td>\n",
       "      <td>102.273050</td>\n",
       "      <td>0.017406</td>\n",
       "      <td>0.112313</td>\n",
       "      <td>9005.693745</td>\n",
       "      <td>1.00000</td>\n",
       "      <td>1.000000</td>\n",
       "    </tr>\n",
       "    <tr>\n",
       "      <th>25%</th>\n",
       "      <td>2.954646</td>\n",
       "      <td>0.294028</td>\n",
       "      <td>237.902782</td>\n",
       "      <td>205.768013</td>\n",
       "      <td>0.270457</td>\n",
       "      <td>26.496195</td>\n",
       "      <td>9218.291019</td>\n",
       "      <td>1.00000</td>\n",
       "      <td>2.000000</td>\n",
       "    </tr>\n",
       "    <tr>\n",
       "      <th>50%</th>\n",
       "      <td>5.761806</td>\n",
       "      <td>0.565567</td>\n",
       "      <td>547.907425</td>\n",
       "      <td>328.389295</td>\n",
       "      <td>0.478197</td>\n",
       "      <td>49.178544</td>\n",
       "      <td>9484.822149</td>\n",
       "      <td>2.00000</td>\n",
       "      <td>4.000000</td>\n",
       "    </tr>\n",
       "    <tr>\n",
       "      <th>75%</th>\n",
       "      <td>7.170335</td>\n",
       "      <td>0.788333</td>\n",
       "      <td>802.765944</td>\n",
       "      <td>436.043077</td>\n",
       "      <td>0.726476</td>\n",
       "      <td>71.810254</td>\n",
       "      <td>9742.276650</td>\n",
       "      <td>3.00000</td>\n",
       "      <td>5.000000</td>\n",
       "    </tr>\n",
       "    <tr>\n",
       "      <th>max</th>\n",
       "      <td>9.728446</td>\n",
       "      <td>0.984007</td>\n",
       "      <td>997.280919</td>\n",
       "      <td>498.470348</td>\n",
       "      <td>0.997968</td>\n",
       "      <td>99.756492</td>\n",
       "      <td>9988.494319</td>\n",
       "      <td>3.00000</td>\n",
       "      <td>6.000000</td>\n",
       "    </tr>\n",
       "  </tbody>\n",
       "</table>\n",
       "</div>"
      ],
      "text/plain": [
       "                0           1           2           3           4           5  \\\n",
       "count  100.000000  100.000000  100.000000  100.000000  100.000000  100.000000   \n",
       "mean     5.191798    0.536342  522.154169  314.905236    0.484854   48.698193   \n",
       "std      2.751991    0.297750  309.604052  119.889297    0.279095   28.582162   \n",
       "min      0.017658    0.004809    3.468755  102.273050    0.017406    0.112313   \n",
       "25%      2.954646    0.294028  237.902782  205.768013    0.270457   26.496195   \n",
       "50%      5.761806    0.565567  547.907425  328.389295    0.478197   49.178544   \n",
       "75%      7.170335    0.788333  802.765944  436.043077    0.726476   71.810254   \n",
       "max      9.728446    0.984007  997.280919  498.470348    0.997968   99.756492   \n",
       "\n",
       "                 6          7           8  \n",
       "count   100.000000  100.00000  100.000000  \n",
       "mean   9491.445407    2.06000    3.420000  \n",
       "std     300.825734    0.83871    1.664726  \n",
       "min    9005.693745    1.00000    1.000000  \n",
       "25%    9218.291019    1.00000    2.000000  \n",
       "50%    9484.822149    2.00000    4.000000  \n",
       "75%    9742.276650    3.00000    5.000000  \n",
       "max    9988.494319    3.00000    6.000000  "
      ]
     },
     "execution_count": 10,
     "metadata": {},
     "output_type": "execute_result"
    }
   ],
   "source": [
    "test.describe()"
   ]
  },
  {
   "cell_type": "code",
   "execution_count": 11,
   "metadata": {},
   "outputs": [
    {
     "data": {
      "image/png": "[encoded data removed]",
      "text/plain": [
       "<Figure size 432x288 with 1 Axes>"
      ]
     },
     "metadata": {
      "needs_background": "light"
     },
     "output_type": "display_data"
    }
   ],
   "source": [
    "#plotting the Target Variable\n",
    "import matplotlib.pyplot as plt\n",
    "%matplotlib inline\n",
    "train['target'].plot(kind='line')\n",
    "plt.show()"
   ]
  },
  {
   "cell_type": "code",
   "execution_count": 12,
   "metadata": {},
   "outputs": [
    {
     "data": {
      "image/png": "[encoded data removed]",
      "text/plain": [
       "<Figure size 432x288 with 2 Axes>"
      ]
     },
     "metadata": {
      "needs_background": "light"
     },
     "output_type": "display_data"
    }
   ],
   "source": [
    "#Plotting the Correaltion Map\n",
    "sns.heatmap(train.corr(),annot=True)\n",
    "plt.show()"
   ]
  },
  {
   "cell_type": "code",
   "execution_count": 13,
   "metadata": {},
   "outputs": [],
   "source": [
    "X = train.drop('target', axis = 1)\n",
    "Y = train['target']"
   ]
  },
  {
   "cell_type": "code",
   "execution_count": 14,
   "metadata": {},
   "outputs": [],
   "source": [
    "from sklearn.linear_model import LinearRegression"
   ]
  },
  {
   "cell_type": "code",
   "execution_count": 15,
   "metadata": {},
   "outputs": [
    {
     "data": {
      "text/plain": [
       "LinearRegression(copy_X=True, fit_intercept=True, n_jobs=None, normalize=False)"
      ]
     },
     "execution_count": 15,
     "metadata": {},
     "output_type": "execute_result"
    }
   ],
   "source": [
    "lm = LinearRegression()\n",
    "lm"
   ]
  },
  {
   "cell_type": "code",
   "execution_count": 16,
   "metadata": {},
   "outputs": [
    {
     "data": {
      "text/plain": [
       "LinearRegression(copy_X=True, fit_intercept=True, n_jobs=None, normalize=False)"
      ]
     },
     "execution_count": 16,
     "metadata": {},
     "output_type": "execute_result"
    }
   ],
   "source": [
    "lm.fit(X,Y) # fit the model"
   ]
  },
  {
   "cell_type": "code",
   "execution_count": 17,
   "metadata": {},
   "outputs": [
    {
     "name": "stdout",
     "output_type": "stream",
     "text": [
      "Coefficients: [ 1.46516337e+01  2.24991291e+02  1.03487948e+00  1.76410813e-02\n",
      " -1.95194047e+03  8.30956929e-01  9.95262937e-01 -5.23157341e+02\n",
      " -2.98490398e+00]\n",
      "Intercept: 945.6542440173653\n",
      "R^2 score: 0.8292010974554989\n"
     ]
    }
   ],
   "source": [
    "print(f'Coefficients: {lm.coef_}')\n",
    "print(f'Intercept: {lm.intercept_}')\n",
    "print(f'R^2 score: {lm.score(X, Y)}')"
   ]
  },
  {
   "cell_type": "code",
   "execution_count": 18,
   "metadata": {},
   "outputs": [],
   "source": [
    "ypred = lm.predict(X)"
   ]
  },
  {
   "cell_type": "code",
   "execution_count": 19,
   "metadata": {},
   "outputs": [
    {
     "data": {
      "text/plain": [
       "0.8292010974555105"
      ]
     },
     "execution_count": 19,
     "metadata": {},
     "output_type": "execute_result"
    }
   ],
   "source": [
    "sse = ((Y-ypred)**2).sum()\n",
    "ssr = ((ypred-Y.mean())**2).sum()\n",
    "sst = sse + ssr\n",
    "r = ssr/sst\n",
    "r"
   ]
  },
  {
   "cell_type": "code",
   "execution_count": 20,
   "metadata": {},
   "outputs": [
    {
     "name": "stdout",
     "output_type": "stream",
     "text": [
      "(630, 9)\n",
      "(270, 9)\n",
      "(270,)\n"
     ]
    }
   ],
   "source": [
    "from sklearn.model_selection import train_test_split\n",
    "X_train, X_test , y_train, y_test = train_test_split(X,Y, test_size = 0.30, random_state = 1)\n",
    "print(X_train.shape)\n",
    "print(X_test.shape)\n",
    "print(y_test.shape)"
   ]
  },
  {
   "cell_type": "code",
   "execution_count": 21,
   "metadata": {},
   "outputs": [
    {
     "name": "stdout",
     "output_type": "stream",
     "text": [
      "R^2 score for train: 0.8403805528825464\n",
      "R^2 score for test: 0.7976453122360225\n"
     ]
    }
   ],
   "source": [
    "lin_reg = LinearRegression()\n",
    "model = lin_reg.fit(X_train,y_train)\n",
    "print(f'R^2 score for train: {lin_reg.score(X_train, y_train)}')\n",
    "print(f'R^2 score for test: {lin_reg.score(X_test, y_test)}')"
   ]
  },
  {
   "cell_type": "code",
   "execution_count": 22,
   "metadata": {},
   "outputs": [],
   "source": [
    "from sklearn.preprocessing import StandardScaler,RobustScaler"
   ]
  },
  {
   "cell_type": "code",
   "execution_count": 23,
   "metadata": {},
   "outputs": [],
   "source": [
    "scaler=RobustScaler()"
   ]
  },
  {
   "cell_type": "code",
   "execution_count": 24,
   "metadata": {},
   "outputs": [],
   "source": [
    "testScaled = scaler.fit(test).transform(test) #Fit and Transform"
   ]
  },
  {
   "cell_type": "code",
   "execution_count": 25,
   "metadata": {},
   "outputs": [],
   "source": [
    "predictions2=lm.predict(testScaled)"
   ]
  },
  {
   "cell_type": "code",
   "execution_count": 26,
   "metadata": {},
   "outputs": [],
   "source": [
    "predictions2_org=np.exp(predictions2)"
   ]
  },
  {
   "cell_type": "code",
   "execution_count": 27,
   "metadata": {},
   "outputs": [],
   "source": [
    "column_0 = test['0']\n",
    "column_1 = test['1']\n",
    "column_2 = test['2']\n",
    "column_3 = test['3']\n",
    "column_4 = test['4']\n",
    "column_5 = test['5']\n",
    "column_6 = test['6']\n",
    "column_7 = test['7']\n",
    "column_8 = test['8']"
   ]
  },
  {
   "cell_type": "code",
   "execution_count": 28,
   "metadata": {},
   "outputs": [
    {
     "name": "stdout",
     "output_type": "stream",
     "text": [
      "C:\\Users\\Shree\n"
     ]
    }
   ],
   "source": [
    "cd"
   ]
  },
  {
   "cell_type": "code",
   "execution_count": 29,
   "metadata": {},
   "outputs": [],
   "source": [
    "from xgboost import XGBRegressor"
   ]
  },
  {
   "cell_type": "code",
   "execution_count": 30,
   "metadata": {},
   "outputs": [],
   "source": [
    "xgmodel=XGBRegressor()"
   ]
  },
  {
   "cell_type": "code",
   "execution_count": 31,
   "metadata": {},
   "outputs": [
    {
     "name": "stdout",
     "output_type": "stream",
     "text": [
      "[15:44:27] WARNING: C:/Jenkins/workspace/xgboost-win64_release_0.90/src/objective/regression_obj.cu:152: reg:linear is now deprecated in favor of reg:squarederror.\n"
     ]
    },
    {
     "name": "stderr",
     "output_type": "stream",
     "text": [
      "C:\\Users\\Shree\\Anaconda331\\lib\\site-packages\\xgboost\\core.py:587: FutureWarning: Series.base is deprecated and will be removed in a future version\n",
      "  if getattr(data, 'base', None) is not None and \\\n"
     ]
    },
    {
     "data": {
      "text/plain": [
       "XGBRegressor(base_score=0.5, booster='gbtree', colsample_bylevel=1,\n",
       "             colsample_bynode=1, colsample_bytree=1, gamma=0,\n",
       "             importance_type='gain', learning_rate=0.1, max_delta_step=0,\n",
       "             max_depth=3, min_child_weight=1, missing=None, n_estimators=100,\n",
       "             n_jobs=1, nthread=None, objective='reg:linear', random_state=0,\n",
       "             reg_alpha=0, reg_lambda=1, scale_pos_weight=1, seed=None,\n",
       "             silent=None, subsample=1, verbosity=1)"
      ]
     },
     "execution_count": 31,
     "metadata": {},
     "output_type": "execute_result"
    }
   ],
   "source": [
    "xgmodel.fit(X_train,y_train) #Fit the model"
   ]
  },
  {
   "cell_type": "code",
   "execution_count": 32,
   "metadata": {},
   "outputs": [
    {
     "data": {
      "text/plain": [
       "(0.9485926708936216, 0.8742426109236391)"
      ]
     },
     "execution_count": 32,
     "metadata": {},
     "output_type": "execute_result"
    }
   ],
   "source": [
    "xgmodel.score(X_train,y_train),xgmodel.score(X_test,y_test)"
   ]
  },
  {
   "cell_type": "code",
   "execution_count": 33,
   "metadata": {},
   "outputs": [],
   "source": [
    "xgb=XGBRegressor(n_estimators=500, learning_rate=0.05)"
   ]
  },
  {
   "cell_type": "code",
   "execution_count": 34,
   "metadata": {},
   "outputs": [
    {
     "name": "stderr",
     "output_type": "stream",
     "text": [
      "C:\\Users\\Shree\\Anaconda331\\lib\\site-packages\\xgboost\\core.py:587: FutureWarning: Series.base is deprecated and will be removed in a future version\n",
      "  if getattr(data, 'base', None) is not None and \\\n"
     ]
    },
    {
     "name": "stdout",
     "output_type": "stream",
     "text": [
      "[15:44:29] WARNING: C:/Jenkins/workspace/xgboost-win64_release_0.90/src/objective/regression_obj.cu:152: reg:linear is now deprecated in favor of reg:squarederror.\n"
     ]
    },
    {
     "data": {
      "text/plain": [
       "XGBRegressor(base_score=0.5, booster='gbtree', colsample_bylevel=1,\n",
       "             colsample_bynode=1, colsample_bytree=1, gamma=0,\n",
       "             importance_type='gain', learning_rate=0.05, max_delta_step=0,\n",
       "             max_depth=3, min_child_weight=1, missing=None, n_estimators=500,\n",
       "             n_jobs=1, nthread=None, objective='reg:linear', random_state=0,\n",
       "             reg_alpha=0, reg_lambda=1, scale_pos_weight=1, seed=None,\n",
       "             silent=None, subsample=1, verbosity=1)"
      ]
     },
     "execution_count": 34,
     "metadata": {},
     "output_type": "execute_result"
    }
   ],
   "source": [
    "xgb.fit(X_train,y_train)"
   ]
  },
  {
   "cell_type": "code",
   "execution_count": 35,
   "metadata": {},
   "outputs": [
    {
     "data": {
      "text/plain": [
       "(0.972654643267302, 0.8712294293752075)"
      ]
     },
     "execution_count": 35,
     "metadata": {},
     "output_type": "execute_result"
    }
   ],
   "source": [
    "xgb.score(X_train,y_train),xgb.score(X_test,y_test)"
   ]
  },
  {
   "cell_type": "code",
   "execution_count": 36,
   "metadata": {},
   "outputs": [
    {
     "name": "stderr",
     "output_type": "stream",
     "text": [
      "C:\\Users\\Shree\\Anaconda331\\lib\\site-packages\\xgboost\\core.py:587: FutureWarning: Series.base is deprecated and will be removed in a future version\n",
      "  if getattr(data, 'base', None) is not None and \\\n"
     ]
    }
   ],
   "source": [
    "import xgboost as xgb\n",
    "dtrain = xgb.DMatrix(X_train, label=y_train)\n",
    "dtest = xgb.DMatrix(X_test, label=y_test)"
   ]
  },
  {
   "cell_type": "code",
   "execution_count": 37,
   "metadata": {},
   "outputs": [],
   "source": [
    "params = {\n",
    "    # Parameters that we are going to tune.\n",
    "    'max_depth':6,\n",
    "    'min_child_weight': 1,\n",
    "    'eta':.3,\n",
    "    'subsample': 1,\n",
    "    'colsample_bytree': 1,\n",
    "    # Other parameters\n",
    "    'objective':'reg:linear',\n",
    "}"
   ]
  },
  {
   "cell_type": "code",
   "execution_count": 38,
   "metadata": {},
   "outputs": [],
   "source": [
    "params['eval_metric'] = \"mae\""
   ]
  },
  {
   "cell_type": "code",
   "execution_count": 39,
   "metadata": {},
   "outputs": [],
   "source": [
    "num_boost_round = 999"
   ]
  },
  {
   "cell_type": "code",
   "execution_count": 40,
   "metadata": {},
   "outputs": [
    {
     "name": "stdout",
     "output_type": "stream",
     "text": [
      "[15:44:35] WARNING: C:/Jenkins/workspace/xgboost-win64_release_0.90/src/objective/regression_obj.cu:152: reg:linear is now deprecated in favor of reg:squarederror.\n",
      "[0]\tTest-mae:6448.9\n",
      "Will train until Test-mae hasn't improved in 10 rounds.\n",
      "[1]\tTest-mae:4534.8\n",
      "[2]\tTest-mae:3192.94\n",
      "[3]\tTest-mae:2241.6\n",
      "[4]\tTest-mae:1583.98\n",
      "[5]\tTest-mae:1119.96\n",
      "[6]\tTest-mae:799.698\n",
      "[7]\tTest-mae:588.101\n",
      "[8]\tTest-mae:455.609\n",
      "[9]\tTest-mae:380.375\n",
      "[10]\tTest-mae:341.013\n",
      "[11]\tTest-mae:313.962\n",
      "[12]\tTest-mae:298.857\n",
      "[13]\tTest-mae:289.063\n",
      "[14]\tTest-mae:282.521\n",
      "[15]\tTest-mae:279.376\n",
      "[16]\tTest-mae:278.196\n",
      "[17]\tTest-mae:277.584\n",
      "[18]\tTest-mae:277.011\n",
      "[19]\tTest-mae:277.456\n",
      "[20]\tTest-mae:276.877\n",
      "[21]\tTest-mae:276.159\n",
      "[22]\tTest-mae:276.69\n",
      "[23]\tTest-mae:276.212\n",
      "[24]\tTest-mae:276.314\n",
      "[25]\tTest-mae:276.755\n",
      "[26]\tTest-mae:275.348\n",
      "[27]\tTest-mae:275.729\n",
      "[28]\tTest-mae:276.302\n",
      "[29]\tTest-mae:276.247\n",
      "[30]\tTest-mae:276.65\n",
      "[31]\tTest-mae:277.582\n",
      "[32]\tTest-mae:277.525\n",
      "[33]\tTest-mae:277.168\n",
      "[34]\tTest-mae:277.567\n",
      "[35]\tTest-mae:278.53\n",
      "[36]\tTest-mae:278.593\n",
      "Stopping. Best iteration:\n",
      "[26]\tTest-mae:275.348\n",
      "\n"
     ]
    }
   ],
   "source": [
    "model = xgb.train(\n",
    "    params,\n",
    "    dtrain,\n",
    "    num_boost_round=num_boost_round,\n",
    "    evals=[(dtest, \"Test\")],\n",
    "    early_stopping_rounds=10\n",
    ")"
   ]
  },
  {
   "cell_type": "code",
   "execution_count": 41,
   "metadata": {},
   "outputs": [
    {
     "name": "stdout",
     "output_type": "stream",
     "text": [
      "[15:44:36] WARNING: C:/Jenkins/workspace/xgboost-win64_release_0.90/src/objective/regression_obj.cu:152: reg:linear is now deprecated in favor of reg:squarederror.\n",
      "[15:44:36] WARNING: C:/Jenkins/workspace/xgboost-win64_release_0.90/src/objective/regression_obj.cu:152: reg:linear is now deprecated in favor of reg:squarederror.\n",
      "[15:44:36] WARNING: C:/Jenkins/workspace/xgboost-win64_release_0.90/src/objective/regression_obj.cu:152: reg:linear is now deprecated in favor of reg:squarederror.\n",
      "[15:44:36] WARNING: C:/Jenkins/workspace/xgboost-win64_release_0.90/src/objective/regression_obj.cu:152: reg:linear is now deprecated in favor of reg:squarederror.\n",
      "[15:44:36] WARNING: C:/Jenkins/workspace/xgboost-win64_release_0.90/src/objective/regression_obj.cu:152: reg:linear is now deprecated in favor of reg:squarederror.\n"
     ]
    }
   ],
   "source": [
    "cv_results = xgb.cv(\n",
    "    params,\n",
    "    dtrain,\n",
    "    num_boost_round=num_boost_round,\n",
    "    seed=42,\n",
    "    nfold=5,\n",
    "    metrics={'mae'},\n",
    "    early_stopping_rounds=10\n",
    ")"
   ]
  },
  {
   "cell_type": "code",
   "execution_count": 42,
   "metadata": {},
   "outputs": [
    {
     "data": {
      "text/html": [
       "<div>\n",
       "<style scoped>\n",
       "    .dataframe tbody tr th:only-of-type {\n",
       "        vertical-align: middle;\n",
       "    }\n",
       "\n",
       "    .dataframe tbody tr th {\n",
       "        vertical-align: top;\n",
       "    }\n",
       "\n",
       "    .dataframe thead th {\n",
       "        text-align: right;\n",
       "    }\n",
       "</style>\n",
       "<table border=\"1\" class=\"dataframe\">\n",
       "  <thead>\n",
       "    <tr style=\"text-align: right;\">\n",
       "      <th></th>\n",
       "      <th>train-mae-mean</th>\n",
       "      <th>train-mae-std</th>\n",
       "      <th>test-mae-mean</th>\n",
       "      <th>test-mae-std</th>\n",
       "    </tr>\n",
       "  </thead>\n",
       "  <tbody>\n",
       "    <tr>\n",
       "      <th>0</th>\n",
       "      <td>6378.204199</td>\n",
       "      <td>9.209321</td>\n",
       "      <td>6383.375976</td>\n",
       "      <td>51.570405</td>\n",
       "    </tr>\n",
       "    <tr>\n",
       "      <th>1</th>\n",
       "      <td>4475.678711</td>\n",
       "      <td>6.457114</td>\n",
       "      <td>4476.782715</td>\n",
       "      <td>51.972564</td>\n",
       "    </tr>\n",
       "    <tr>\n",
       "      <th>2</th>\n",
       "      <td>3141.861523</td>\n",
       "      <td>3.955433</td>\n",
       "      <td>3138.813086</td>\n",
       "      <td>53.096420</td>\n",
       "    </tr>\n",
       "    <tr>\n",
       "      <th>3</th>\n",
       "      <td>2208.905029</td>\n",
       "      <td>3.458009</td>\n",
       "      <td>2200.953223</td>\n",
       "      <td>42.718569</td>\n",
       "    </tr>\n",
       "    <tr>\n",
       "      <th>4</th>\n",
       "      <td>1554.978980</td>\n",
       "      <td>3.066035</td>\n",
       "      <td>1548.681201</td>\n",
       "      <td>35.146770</td>\n",
       "    </tr>\n",
       "  </tbody>\n",
       "</table>\n",
       "</div>"
      ],
      "text/plain": [
       "   train-mae-mean  train-mae-std  test-mae-mean  test-mae-std\n",
       "0     6378.204199       9.209321    6383.375976     51.570405\n",
       "1     4475.678711       6.457114    4476.782715     51.972564\n",
       "2     3141.861523       3.955433    3138.813086     53.096420\n",
       "3     2208.905029       3.458009    2200.953223     42.718569\n",
       "4     1554.978980       3.066035    1548.681201     35.146770"
      ]
     },
     "execution_count": 42,
     "metadata": {},
     "output_type": "execute_result"
    }
   ],
   "source": [
    "cv_results.head()"
   ]
  },
  {
   "cell_type": "code",
   "execution_count": 43,
   "metadata": {},
   "outputs": [
    {
     "data": {
      "text/plain": [
       "26"
      ]
     },
     "execution_count": 43,
     "metadata": {},
     "output_type": "execute_result"
    }
   ],
   "source": [
    "model.best_iteration"
   ]
  },
  {
   "cell_type": "code",
   "execution_count": 44,
   "metadata": {},
   "outputs": [],
   "source": [
    "dtest1=xgb.DMatrix(test)"
   ]
  },
  {
   "cell_type": "code",
   "execution_count": 45,
   "metadata": {},
   "outputs": [
    {
     "data": {
      "text/html": [
       "<div>\n",
       "<style scoped>\n",
       "    .dataframe tbody tr th:only-of-type {\n",
       "        vertical-align: middle;\n",
       "    }\n",
       "\n",
       "    .dataframe tbody tr th {\n",
       "        vertical-align: top;\n",
       "    }\n",
       "\n",
       "    .dataframe thead th {\n",
       "        text-align: right;\n",
       "    }\n",
       "</style>\n",
       "<table border=\"1\" class=\"dataframe\">\n",
       "  <thead>\n",
       "    <tr style=\"text-align: right;\">\n",
       "      <th></th>\n",
       "      <th>0</th>\n",
       "      <th>1</th>\n",
       "      <th>2</th>\n",
       "      <th>3</th>\n",
       "      <th>4</th>\n",
       "      <th>5</th>\n",
       "      <th>6</th>\n",
       "      <th>7</th>\n",
       "      <th>8</th>\n",
       "    </tr>\n",
       "  </thead>\n",
       "  <tbody>\n",
       "    <tr>\n",
       "      <th>0</th>\n",
       "      <td>8.243945</td>\n",
       "      <td>0.442707</td>\n",
       "      <td>814.191463</td>\n",
       "      <td>437.449497</td>\n",
       "      <td>0.820757</td>\n",
       "      <td>66.358208</td>\n",
       "      <td>9321.584760</td>\n",
       "      <td>1.0</td>\n",
       "      <td>5.0</td>\n",
       "    </tr>\n",
       "    <tr>\n",
       "      <th>1</th>\n",
       "      <td>0.450469</td>\n",
       "      <td>0.734878</td>\n",
       "      <td>690.536337</td>\n",
       "      <td>337.971868</td>\n",
       "      <td>0.163483</td>\n",
       "      <td>88.966042</td>\n",
       "      <td>9653.465215</td>\n",
       "      <td>2.0</td>\n",
       "      <td>3.0</td>\n",
       "    </tr>\n",
       "    <tr>\n",
       "      <th>2</th>\n",
       "      <td>5.805761</td>\n",
       "      <td>0.412531</td>\n",
       "      <td>225.544432</td>\n",
       "      <td>468.295427</td>\n",
       "      <td>0.254678</td>\n",
       "      <td>27.853712</td>\n",
       "      <td>9840.535247</td>\n",
       "      <td>2.0</td>\n",
       "      <td>3.0</td>\n",
       "    </tr>\n",
       "    <tr>\n",
       "      <th>3</th>\n",
       "      <td>4.126340</td>\n",
       "      <td>0.685302</td>\n",
       "      <td>73.330815</td>\n",
       "      <td>169.578437</td>\n",
       "      <td>0.828849</td>\n",
       "      <td>81.691968</td>\n",
       "      <td>9044.806270</td>\n",
       "      <td>2.0</td>\n",
       "      <td>5.0</td>\n",
       "    </tr>\n",
       "    <tr>\n",
       "      <th>4</th>\n",
       "      <td>8.082666</td>\n",
       "      <td>0.449977</td>\n",
       "      <td>526.274384</td>\n",
       "      <td>308.148895</td>\n",
       "      <td>0.737136</td>\n",
       "      <td>30.420377</td>\n",
       "      <td>9916.538668</td>\n",
       "      <td>1.0</td>\n",
       "      <td>5.0</td>\n",
       "    </tr>\n",
       "  </tbody>\n",
       "</table>\n",
       "</div>"
      ],
      "text/plain": [
       "          0         1           2           3         4          5  \\\n",
       "0  8.243945  0.442707  814.191463  437.449497  0.820757  66.358208   \n",
       "1  0.450469  0.734878  690.536337  337.971868  0.163483  88.966042   \n",
       "2  5.805761  0.412531  225.544432  468.295427  0.254678  27.853712   \n",
       "3  4.126340  0.685302   73.330815  169.578437  0.828849  81.691968   \n",
       "4  8.082666  0.449977  526.274384  308.148895  0.737136  30.420377   \n",
       "\n",
       "             6    7    8  \n",
       "0  9321.584760  1.0  5.0  \n",
       "1  9653.465215  2.0  3.0  \n",
       "2  9840.535247  2.0  3.0  \n",
       "3  9044.806270  2.0  5.0  \n",
       "4  9916.538668  1.0  5.0  "
      ]
     },
     "execution_count": 45,
     "metadata": {},
     "output_type": "execute_result"
    }
   ],
   "source": [
    "xgprediction=model.predict(dtest1)\n",
    "test.head()"
   ]
  },
  {
   "cell_type": "code",
   "execution_count": 46,
   "metadata": {},
   "outputs": [],
   "source": [
    "xgprediction1=np.exp(xgprediction)"
   ]
  },
  {
   "cell_type": "code",
   "execution_count": 47,
   "metadata": {},
   "outputs": [],
   "source": [
    "sub = pd.DataFrame({'0' : column_0,\n",
    "                    '1' : column_1,\n",
    "                    '2' : column_2, \n",
    "                    '3' : column_3, \n",
    "                    '4' : column_4, \n",
    "                    '5' : column_5, \n",
    "                    '6' : column_6, \n",
    "                    '7' : column_7, \n",
    "                    '8' : column_8,\n",
    "                    'Target_predicted' :  xgprediction})\n",
    "sub.to_csv('Test_prediction_Regressor.csv', index=False)"
   ]
  },
  {
   "cell_type": "markdown",
   "metadata": {},
   "source": [
    "__Saving the Predicted Test file__"
   ]
  },
  {
   "cell_type": "code",
   "execution_count": 48,
   "metadata": {},
   "outputs": [
    {
     "name": "stdout",
     "output_type": "stream",
     "text": [
      "[WinError 2] The system cannot find the file specified: '#Locating'\n",
      "C:\\Users\\Shree\n"
     ]
    }
   ],
   "source": [
    "cd #Locating"
   ]
  },
  {
   "cell_type": "code",
   "execution_count": 49,
   "metadata": {},
   "outputs": [],
   "source": [
    "#import the predicted file saved\n",
    "File = 'C:\\\\Users\\\\Shree\\\\Downloads\\\\CCTech\\\\Regression\\\\Test_prediction_Regressor.csv'"
   ]
  },
  {
   "cell_type": "code",
   "execution_count": 50,
   "metadata": {},
   "outputs": [
    {
     "data": {
      "text/html": [
       "<div>\n",
       "<style scoped>\n",
       "    .dataframe tbody tr th:only-of-type {\n",
       "        vertical-align: middle;\n",
       "    }\n",
       "\n",
       "    .dataframe tbody tr th {\n",
       "        vertical-align: top;\n",
       "    }\n",
       "\n",
       "    .dataframe thead th {\n",
       "        text-align: right;\n",
       "    }\n",
       "</style>\n",
       "<table border=\"1\" class=\"dataframe\">\n",
       "  <thead>\n",
       "    <tr style=\"text-align: right;\">\n",
       "      <th></th>\n",
       "      <th>0</th>\n",
       "      <th>1</th>\n",
       "      <th>2</th>\n",
       "      <th>3</th>\n",
       "      <th>4</th>\n",
       "      <th>5</th>\n",
       "      <th>6</th>\n",
       "      <th>7</th>\n",
       "      <th>8</th>\n",
       "      <th>Target_predicted</th>\n",
       "    </tr>\n",
       "  </thead>\n",
       "  <tbody>\n",
       "    <tr>\n",
       "      <th>0</th>\n",
       "      <td>8.243945</td>\n",
       "      <td>0.442707</td>\n",
       "      <td>814.191463</td>\n",
       "      <td>437.449497</td>\n",
       "      <td>0.820757</td>\n",
       "      <td>66.358208</td>\n",
       "      <td>9321.584760</td>\n",
       "      <td>1.0</td>\n",
       "      <td>5.0</td>\n",
       "      <td>9324.450</td>\n",
       "    </tr>\n",
       "    <tr>\n",
       "      <th>1</th>\n",
       "      <td>0.450469</td>\n",
       "      <td>0.734878</td>\n",
       "      <td>690.536337</td>\n",
       "      <td>337.971868</td>\n",
       "      <td>0.163483</td>\n",
       "      <td>88.966042</td>\n",
       "      <td>9653.465215</td>\n",
       "      <td>2.0</td>\n",
       "      <td>3.0</td>\n",
       "      <td>10040.333</td>\n",
       "    </tr>\n",
       "    <tr>\n",
       "      <th>2</th>\n",
       "      <td>5.805761</td>\n",
       "      <td>0.412531</td>\n",
       "      <td>225.544432</td>\n",
       "      <td>468.295427</td>\n",
       "      <td>0.254678</td>\n",
       "      <td>27.853712</td>\n",
       "      <td>9840.535247</td>\n",
       "      <td>2.0</td>\n",
       "      <td>3.0</td>\n",
       "      <td>9590.543</td>\n",
       "    </tr>\n",
       "    <tr>\n",
       "      <th>3</th>\n",
       "      <td>4.126340</td>\n",
       "      <td>0.685302</td>\n",
       "      <td>73.330815</td>\n",
       "      <td>169.578437</td>\n",
       "      <td>0.828849</td>\n",
       "      <td>81.691968</td>\n",
       "      <td>9044.806270</td>\n",
       "      <td>2.0</td>\n",
       "      <td>5.0</td>\n",
       "      <td>7600.701</td>\n",
       "    </tr>\n",
       "    <tr>\n",
       "      <th>4</th>\n",
       "      <td>8.082666</td>\n",
       "      <td>0.449977</td>\n",
       "      <td>526.274384</td>\n",
       "      <td>308.148895</td>\n",
       "      <td>0.737136</td>\n",
       "      <td>30.420377</td>\n",
       "      <td>9916.538668</td>\n",
       "      <td>1.0</td>\n",
       "      <td>5.0</td>\n",
       "      <td>9617.430</td>\n",
       "    </tr>\n",
       "  </tbody>\n",
       "</table>\n",
       "</div>"
      ],
      "text/plain": [
       "          0         1           2           3         4          5  \\\n",
       "0  8.243945  0.442707  814.191463  437.449497  0.820757  66.358208   \n",
       "1  0.450469  0.734878  690.536337  337.971868  0.163483  88.966042   \n",
       "2  5.805761  0.412531  225.544432  468.295427  0.254678  27.853712   \n",
       "3  4.126340  0.685302   73.330815  169.578437  0.828849  81.691968   \n",
       "4  8.082666  0.449977  526.274384  308.148895  0.737136  30.420377   \n",
       "\n",
       "             6    7    8  Target_predicted  \n",
       "0  9321.584760  1.0  5.0          9324.450  \n",
       "1  9653.465215  2.0  3.0         10040.333  \n",
       "2  9840.535247  2.0  3.0          9590.543  \n",
       "3  9044.806270  2.0  5.0          7600.701  \n",
       "4  9916.538668  1.0  5.0          9617.430  "
      ]
     },
     "execution_count": 50,
     "metadata": {},
     "output_type": "execute_result"
    }
   ],
   "source": [
    "Tested = pd.read_csv(File)\n",
    "Tested.head()"
   ]
  },
  {
   "cell_type": "markdown",
   "metadata": {},
   "source": [
    "Here we see that the Predicted values in Target_predicted values, which are predicted using XGB Regressor.\n",
    "Further we see the Regression on these predicted values."
   ]
  },
  {
   "cell_type": "code",
   "execution_count": 51,
   "metadata": {},
   "outputs": [
    {
     "data": {
      "image/png": "[encoded data removed]",
      "text/plain": [
       "<Figure size 432x288 with 1 Axes>"
      ]
     },
     "metadata": {
      "needs_background": "light"
     },
     "output_type": "display_data"
    }
   ],
   "source": [
    "Tested['Target_predicted'].plot(kind='line')\n",
    "plt.show()"
   ]
  },
  {
   "cell_type": "code",
   "execution_count": 52,
   "metadata": {},
   "outputs": [
    {
     "data": {
      "image/png": "[encoded data removed]",
      "text/plain": [
       "<Figure size 432x288 with 2 Axes>"
      ]
     },
     "metadata": {
      "needs_background": "light"
     },
     "output_type": "display_data"
    }
   ],
   "source": [
    "sns.heatmap(Tested.corr(),annot=True)\n",
    "plt.show()"
   ]
  },
  {
   "cell_type": "code",
   "execution_count": 53,
   "metadata": {},
   "outputs": [],
   "source": [
    "## Linear regression model\n",
    "X1 = Tested.drop('Target_predicted', axis=1)\n",
    "y1 = Tested['Target_predicted']"
   ]
  },
  {
   "cell_type": "code",
   "execution_count": 54,
   "metadata": {},
   "outputs": [
    {
     "name": "stdout",
     "output_type": "stream",
     "text": [
      "Coefficients: [ 2.12431882e+01 -5.77895883e+01  1.01214229e+00 -9.14630991e-02\n",
      " -1.74007970e+03  9.20569757e-01  1.05589558e+00 -4.71252520e+02\n",
      " -1.94901762e+01]\n",
      "Intercept: 347.4801087827982\n",
      "R^2 score: 0.8962577352255177\n"
     ]
    }
   ],
   "source": [
    "from sklearn.linear_model import LinearRegression\n",
    "\n",
    "lin_reg2 = LinearRegression()\n",
    "lin_reg2.fit(X1, y1)\n",
    "\n",
    "print(f'Coefficients: {lin_reg2.coef_}')\n",
    "print(f'Intercept: {lin_reg2.intercept_}')\n",
    "print(f'R^2 score: {lin_reg2.score(X1, y1)}')"
   ]
  },
  {
   "cell_type": "code",
   "execution_count": 55,
   "metadata": {},
   "outputs": [],
   "source": [
    "ypred2 = lin_reg2.predict(X)"
   ]
  },
  {
   "cell_type": "code",
   "execution_count": 56,
   "metadata": {},
   "outputs": [
    {
     "name": "stdout",
     "output_type": "stream",
     "text": [
      "(70, 9)\n",
      "(30, 9)\n",
      "(30,)\n"
     ]
    }
   ],
   "source": [
    "# Splitting the dataset\n",
    "from sklearn.model_selection import train_test_split\n",
    "X1_train, X1_test , y1_train, y1_test = train_test_split(X1,y1, test_size = 0.30, random_state = 1)\n",
    "print(X1_train.shape)\n",
    "print(X1_test.shape)\n",
    "print(y1_test.shape)"
   ]
  },
  {
   "cell_type": "code",
   "execution_count": 57,
   "metadata": {},
   "outputs": [],
   "source": [
    "lin_reg2 = LinearRegression()\n",
    "model = lin_reg2.fit(X1_train,y1_train) #fitting the model"
   ]
  },
  {
   "cell_type": "code",
   "execution_count": 58,
   "metadata": {},
   "outputs": [
    {
     "name": "stdout",
     "output_type": "stream",
     "text": [
      "R^2 score for train: 0.9168870224993972\n",
      "R^2 score for test: 0.7509994877774255\n"
     ]
    }
   ],
   "source": [
    "print(f'R^2 score for train: {lin_reg2.score(X1_train, y1_train)}')\n",
    "print(f'R^2 score for test: {lin_reg2.score(X1_test, y1_test)}')"
   ]
  },
  {
   "cell_type": "markdown",
   "metadata": {},
   "source": [
    "__Assumptions For linear Regression__"
   ]
  },
  {
   "cell_type": "code",
   "execution_count": 59,
   "metadata": {},
   "outputs": [
    {
     "data": {
      "text/html": [
       "<table class=\"simpletable\">\n",
       "<caption>OLS Regression Results</caption>\n",
       "<tr>\n",
       "  <th>Dep. Variable:</th>    <td>Target_predicted</td> <th>  R-squared:         </th> <td>   0.896</td>\n",
       "</tr>\n",
       "<tr>\n",
       "  <th>Model:</th>                   <td>OLS</td>       <th>  Adj. R-squared:    </th> <td>   0.886</td>\n",
       "</tr>\n",
       "<tr>\n",
       "  <th>Method:</th>             <td>Least Squares</td>  <th>  F-statistic:       </th> <td>   86.39</td>\n",
       "</tr>\n",
       "<tr>\n",
       "  <th>Date:</th>             <td>Mon, 29 Jun 2020</td> <th>  Prob (F-statistic):</th> <td>2.24e-40</td>\n",
       "</tr>\n",
       "<tr>\n",
       "  <th>Time:</th>                 <td>15:45:06</td>     <th>  Log-Likelihood:    </th> <td> -701.16</td>\n",
       "</tr>\n",
       "<tr>\n",
       "  <th>No. Observations:</th>      <td>   100</td>      <th>  AIC:               </th> <td>   1422.</td>\n",
       "</tr>\n",
       "<tr>\n",
       "  <th>Df Residuals:</th>          <td>    90</td>      <th>  BIC:               </th> <td>   1448.</td>\n",
       "</tr>\n",
       "<tr>\n",
       "  <th>Df Model:</th>              <td>     9</td>      <th>                     </th>     <td> </td>   \n",
       "</tr>\n",
       "<tr>\n",
       "  <th>Covariance Type:</th>      <td>nonrobust</td>    <th>                     </th>     <td> </td>   \n",
       "</tr>\n",
       "</table>\n",
       "<table class=\"simpletable\">\n",
       "<tr>\n",
       "    <td></td>       <th>coef</th>     <th>std err</th>      <th>t</th>      <th>P>|t|</th>  <th>[0.025</th>    <th>0.975]</th>  \n",
       "</tr>\n",
       "<tr>\n",
       "  <th>const</th> <td>  347.4801</td> <td>  943.548</td> <td>    0.368</td> <td> 0.714</td> <td>-1527.044</td> <td> 2222.004</td>\n",
       "</tr>\n",
       "<tr>\n",
       "  <th>0</th>     <td>   21.2432</td> <td>   10.575</td> <td>    2.009</td> <td> 0.048</td> <td>    0.234</td> <td>   42.252</td>\n",
       "</tr>\n",
       "<tr>\n",
       "  <th>1</th>     <td>  -57.7896</td> <td>   99.188</td> <td>   -0.583</td> <td> 0.562</td> <td> -254.844</td> <td>  139.265</td>\n",
       "</tr>\n",
       "<tr>\n",
       "  <th>2</th>     <td>    1.0121</td> <td>    0.095</td> <td>   10.694</td> <td> 0.000</td> <td>    0.824</td> <td>    1.200</td>\n",
       "</tr>\n",
       "<tr>\n",
       "  <th>3</th>     <td>   -0.0915</td> <td>    0.250</td> <td>   -0.366</td> <td> 0.715</td> <td>   -0.588</td> <td>    0.405</td>\n",
       "</tr>\n",
       "<tr>\n",
       "  <th>4</th>     <td>-1740.0797</td> <td>  109.255</td> <td>  -15.927</td> <td> 0.000</td> <td>-1957.134</td> <td>-1523.025</td>\n",
       "</tr>\n",
       "<tr>\n",
       "  <th>5</th>     <td>    0.9206</td> <td>    1.024</td> <td>    0.899</td> <td> 0.371</td> <td>   -1.113</td> <td>    2.954</td>\n",
       "</tr>\n",
       "<tr>\n",
       "  <th>6</th>     <td>    1.0559</td> <td>    0.098</td> <td>   10.812</td> <td> 0.000</td> <td>    0.862</td> <td>    1.250</td>\n",
       "</tr>\n",
       "<tr>\n",
       "  <th>7</th>     <td> -471.2525</td> <td>   34.990</td> <td>  -13.468</td> <td> 0.000</td> <td> -540.765</td> <td> -401.740</td>\n",
       "</tr>\n",
       "<tr>\n",
       "  <th>8</th>     <td>  -19.4902</td> <td>   18.084</td> <td>   -1.078</td> <td> 0.284</td> <td>  -55.418</td> <td>   16.438</td>\n",
       "</tr>\n",
       "</table>\n",
       "<table class=\"simpletable\">\n",
       "<tr>\n",
       "  <th>Omnibus:</th>       <td> 1.139</td> <th>  Durbin-Watson:     </th> <td>   2.222</td>\n",
       "</tr>\n",
       "<tr>\n",
       "  <th>Prob(Omnibus):</th> <td> 0.566</td> <th>  Jarque-Bera (JB):  </th> <td>   0.670</td>\n",
       "</tr>\n",
       "<tr>\n",
       "  <th>Skew:</th>          <td> 0.155</td> <th>  Prob(JB):          </th> <td>   0.715</td>\n",
       "</tr>\n",
       "<tr>\n",
       "  <th>Kurtosis:</th>      <td> 3.255</td> <th>  Cond. No.          </th> <td>3.17e+05</td>\n",
       "</tr>\n",
       "</table><br/><br/>Warnings:<br/>[1] Standard Errors assume that the covariance matrix of the errors is correctly specified.<br/>[2] The condition number is large, 3.17e+05. This might indicate that there are<br/>strong multicollinearity or other numerical problems."
      ],
      "text/plain": [
       "<class 'statsmodels.iolib.summary.Summary'>\n",
       "\"\"\"\n",
       "                            OLS Regression Results                            \n",
       "==============================================================================\n",
       "Dep. Variable:       Target_predicted   R-squared:                       0.896\n",
       "Model:                            OLS   Adj. R-squared:                  0.886\n",
       "Method:                 Least Squares   F-statistic:                     86.39\n",
       "Date:                Mon, 29 Jun 2020   Prob (F-statistic):           2.24e-40\n",
       "Time:                        15:45:06   Log-Likelihood:                -701.16\n",
       "No. Observations:                 100   AIC:                             1422.\n",
       "Df Residuals:                      90   BIC:                             1448.\n",
       "Df Model:                           9                                         \n",
       "Covariance Type:            nonrobust                                         \n",
       "==============================================================================\n",
       "                 coef    std err          t      P>|t|      [0.025      0.975]\n",
       "------------------------------------------------------------------------------\n",
       "const        347.4801    943.548      0.368      0.714   -1527.044    2222.004\n",
       "0             21.2432     10.575      2.009      0.048       0.234      42.252\n",
       "1            -57.7896     99.188     -0.583      0.562    -254.844     139.265\n",
       "2              1.0121      0.095     10.694      0.000       0.824       1.200\n",
       "3             -0.0915      0.250     -0.366      0.715      -0.588       0.405\n",
       "4          -1740.0797    109.255    -15.927      0.000   -1957.134   -1523.025\n",
       "5              0.9206      1.024      0.899      0.371      -1.113       2.954\n",
       "6              1.0559      0.098     10.812      0.000       0.862       1.250\n",
       "7           -471.2525     34.990    -13.468      0.000    -540.765    -401.740\n",
       "8            -19.4902     18.084     -1.078      0.284     -55.418      16.438\n",
       "==============================================================================\n",
       "Omnibus:                        1.139   Durbin-Watson:                   2.222\n",
       "Prob(Omnibus):                  0.566   Jarque-Bera (JB):                0.670\n",
       "Skew:                           0.155   Prob(JB):                        0.715\n",
       "Kurtosis:                       3.255   Cond. No.                     3.17e+05\n",
       "==============================================================================\n",
       "\n",
       "Warnings:\n",
       "[1] Standard Errors assume that the covariance matrix of the errors is correctly specified.\n",
       "[2] The condition number is large, 3.17e+05. This might indicate that there are\n",
       "strong multicollinearity or other numerical problems.\n",
       "\"\"\""
      ]
     },
     "execution_count": 59,
     "metadata": {},
     "output_type": "execute_result"
    }
   ],
   "source": [
    "import warnings \n",
    "warnings.filterwarnings('ignore')\n",
    "import statsmodels.api as sm\n",
    "\n",
    "X_constant2 = sm.add_constant(X1)\n",
    "lin_reg2 = sm.OLS(y1,X_constant2).fit()\n",
    "lin_reg2.summary()"
   ]
  },
  {
   "cell_type": "markdown",
   "metadata": {},
   "source": [
    "__Assumption 1- No autocorrelation__"
   ]
  },
  {
   "cell_type": "code",
   "execution_count": 60,
   "metadata": {},
   "outputs": [
    {
     "data": {
      "image/png": "[encoded data removed]",
      "text/plain": [
       "<Figure size 432x288 with 1 Axes>"
      ]
     },
     "metadata": {
      "needs_background": "light"
     },
     "output_type": "display_data"
    }
   ],
   "source": [
    "import statsmodels.tsa.api as smt\n",
    "\n",
    "acf = smt.graphics.plot_acf(lin_reg2.resid, lags=40 , alpha=0.05) # ACF is auto correlation function\n",
    "acf.show()"
   ]
  },
  {
   "cell_type": "markdown",
   "metadata": {},
   "source": [
    "__Assumption 2- Normality of Residuals__"
   ]
  },
  {
   "cell_type": "code",
   "execution_count": 61,
   "metadata": {},
   "outputs": [
    {
     "name": "stdout",
     "output_type": "stream",
     "text": [
      "(0.6702169791729006, 0.7152604838290083)\n"
     ]
    }
   ],
   "source": [
    "from scipy import stats\n",
    "import seaborn as sns\n",
    "print(stats.jarque_bera(lin_reg2.resid))"
   ]
  },
  {
   "cell_type": "code",
   "execution_count": 62,
   "metadata": {},
   "outputs": [
    {
     "data": {
      "image/png": "[encoded data removed]",
      "text/plain": [
       "<Figure size 432x288 with 1 Axes>"
      ]
     },
     "metadata": {
      "needs_background": "light"
     },
     "output_type": "display_data"
    }
   ],
   "source": [
    "import seaborn as sns\n",
    "\n",
    "sns.distplot(lin_reg2.resid)\n",
    "plt.show()"
   ]
  },
  {
   "cell_type": "code",
   "execution_count": 63,
   "metadata": {},
   "outputs": [
    {
     "data": {
      "image/png": "[encoded data removed]",
      "text/plain": [
       "<Figure size 1080x648 with 2 Axes>"
      ]
     },
     "metadata": {
      "needs_background": "light"
     },
     "output_type": "display_data"
    }
   ],
   "source": [
    "import seaborn as sns \n",
    "import matplotlib.pyplot as plt\n",
    "import statsmodels.stats.api as sms\n",
    "\n",
    "sns.mpl.rcParams['figure.figsize'] = (15.0, 9.0)\n",
    "\n",
    "def linearity_test(model, y):\n",
    "    fitted_vals = model.predict()\n",
    "    resids = model.resid\n",
    "\n",
    "    fig, ax = plt.subplots(1,2)\n",
    "    \n",
    "    sns.regplot(x=fitted_vals, y=y, lowess=True, ax=ax[0], line_kws={'color': 'red'}) #locally weighted linear regression\n",
    "    ax[0].set_title('Observed vs. Predicted Values', fontsize=16)\n",
    "    ax[0].set(xlabel='Predicted', ylabel='Observed')\n",
    "\n",
    "    sns.regplot(x=fitted_vals, y=resids, lowess=True, ax=ax[1], line_kws={'color': 'red'})\n",
    "    ax[1].set_title('Residuals vs. Predicted Values', fontsize=16)\n",
    "    ax[1].set(xlabel='Predicted', ylabel='Residuals')\n",
    "    \n",
    "linearity_test(lin_reg2, y1)  "
   ]
  },
  {
   "cell_type": "markdown",
   "metadata": {},
   "source": [
    "__Rainbow test__"
   ]
  },
  {
   "cell_type": "code",
   "execution_count": 64,
   "metadata": {},
   "outputs": [
    {
     "data": {
      "text/plain": [
       "(1.2089628356084605, 0.269205319390343)"
      ]
     },
     "execution_count": 64,
     "metadata": {},
     "output_type": "execute_result"
    }
   ],
   "source": [
    "import statsmodels.api as sm\n",
    "sm.stats.diagnostic.linear_rainbow(res=lin_reg2)"
   ]
  },
  {
   "cell_type": "code",
   "execution_count": 65,
   "metadata": {},
   "outputs": [
    {
     "data": {
      "image/png": "[encoded data removed]",
      "text/plain": [
       "<Figure size 1080x648 with 1 Axes>"
      ]
     },
     "metadata": {
      "needs_background": "light"
     },
     "output_type": "display_data"
    }
   ],
   "source": [
    "import scipy.stats as stats\n",
    "import pylab\n",
    "from statsmodels.graphics.gofplots import ProbPlot\n",
    "st_residual = lin_reg2.get_influence().resid_studentized_internal\n",
    "stats.probplot(st_residual, dist=\"norm\", plot = pylab)\n",
    "plt.show()"
   ]
  },
  {
   "cell_type": "code",
   "execution_count": 67,
   "metadata": {},
   "outputs": [
    {
     "data": {
      "text/plain": [
       "1.6161720850504934e-11"
      ]
     },
     "execution_count": 67,
     "metadata": {},
     "output_type": "execute_result"
    }
   ],
   "source": [
    "lin_reg2.resid.mean()"
   ]
  },
  {
   "cell_type": "markdown",
   "metadata": {},
   "source": [
    "__Assumption 4 - Homoscedasticity_test__"
   ]
  },
  {
   "cell_type": "code",
   "execution_count": 68,
   "metadata": {},
   "outputs": [],
   "source": [
    "import numpy as np\n",
    "from statsmodels.compat import lzip\n",
    "import seaborn as sns \n",
    "import matplotlib.pyplot as plt\n",
    "import statsmodels.stats.api as sms"
   ]
  },
  {
   "cell_type": "code",
   "execution_count": 69,
   "metadata": {},
   "outputs": [
    {
     "data": {
      "text/plain": [
       "[('F statistic', 0.6674041321201358), ('p-value', 0.8973273617208233)]"
      ]
     },
     "execution_count": 69,
     "metadata": {},
     "output_type": "execute_result"
    },
    {
     "data": {
      "image/png": "[encoded data removed]",
      "text/plain": [
       "<Figure size 1080x648 with 2 Axes>"
      ]
     },
     "metadata": {
      "needs_background": "light"
     },
     "output_type": "display_data"
    }
   ],
   "source": [
    "sns.mpl.rcParams['figure.figsize'] = (15.0, 9.0)\n",
    "\n",
    "model = lin_reg2\n",
    "fitted_vals = model.predict()\n",
    "resids = model.resid\n",
    "resids_standardized = model.get_influence().resid_studentized_internal\n",
    "fig, ax = plt.subplots(1,2)\n",
    "\n",
    "sns.regplot(x=fitted_vals, y=resids, lowess=True, ax=ax[0], line_kws={'color': 'red'})\n",
    "ax[0].set_title('Residuals vs Fitted', fontsize=16)\n",
    "ax[0].set(xlabel='Fitted Values', ylabel='Residuals')\n",
    "\n",
    "sns.regplot(x=fitted_vals, y=np.sqrt(np.abs(resids_standardized)), lowess=True, ax=ax[1], line_kws={'color': 'red'})\n",
    "ax[1].set_title('Scale-Location', fontsize=16)\n",
    "ax[1].set(xlabel='Fitted Values', ylabel='sqrt(abs(Residuals))')\n",
    "\n",
    "name = ['F statistic', 'p-value']\n",
    "test = sms.het_goldfeldquandt(model.resid, model.model.exog)\n",
    "lzip(name, test)"
   ]
  },
  {
   "cell_type": "markdown",
   "metadata": {},
   "source": [
    "__Assumption 5- NO MULTI COLLINEARITY__"
   ]
  },
  {
   "cell_type": "code",
   "execution_count": 70,
   "metadata": {},
   "outputs": [],
   "source": [
    "from statsmodels.stats.outliers_influence import variance_inflation_factor"
   ]
  },
  {
   "cell_type": "code",
   "execution_count": 71,
   "metadata": {},
   "outputs": [
    {
     "data": {
      "text/html": [
       "<div>\n",
       "<style scoped>\n",
       "    .dataframe tbody tr th:only-of-type {\n",
       "        vertical-align: middle;\n",
       "    }\n",
       "\n",
       "    .dataframe tbody tr th {\n",
       "        vertical-align: top;\n",
       "    }\n",
       "\n",
       "    .dataframe thead th {\n",
       "        text-align: right;\n",
       "    }\n",
       "</style>\n",
       "<table border=\"1\" class=\"dataframe\">\n",
       "  <thead>\n",
       "    <tr style=\"text-align: right;\">\n",
       "      <th></th>\n",
       "      <th>0</th>\n",
       "      <th>1</th>\n",
       "      <th>2</th>\n",
       "      <th>3</th>\n",
       "      <th>4</th>\n",
       "      <th>5</th>\n",
       "      <th>6</th>\n",
       "      <th>7</th>\n",
       "      <th>8</th>\n",
       "    </tr>\n",
       "  </thead>\n",
       "  <tbody>\n",
       "    <tr>\n",
       "      <th>vif</th>\n",
       "      <td>1.047103</td>\n",
       "      <td>1.078334</td>\n",
       "      <td>1.061554</td>\n",
       "      <td>1.109916</td>\n",
       "      <td>1.149527</td>\n",
       "      <td>1.058212</td>\n",
       "      <td>1.067031</td>\n",
       "      <td>1.06471</td>\n",
       "      <td>1.120524</td>\n",
       "    </tr>\n",
       "  </tbody>\n",
       "</table>\n",
       "</div>"
      ],
      "text/plain": [
       "            0         1         2         3         4         5         6  \\\n",
       "vif  1.047103  1.078334  1.061554  1.109916  1.149527  1.058212  1.067031   \n",
       "\n",
       "           7         8  \n",
       "vif  1.06471  1.120524  "
      ]
     },
     "execution_count": 71,
     "metadata": {},
     "output_type": "execute_result"
    }
   ],
   "source": [
    "vif = [variance_inflation_factor(X_constant2.values, i) for i in range(X_constant2.shape[1])]\n",
    "pd.DataFrame({'vif': vif[1:]}, index=X.columns).T"
   ]
  },
  {
   "cell_type": "markdown",
   "metadata": {},
   "source": [
    "Data Follows all the asumptions,\n",
    "\n",
    "That means the predctions made are can be accepted and it follows linearity."
   ]
  }
 ],
 "metadata": {
  "kernelspec": {
   "display_name": "Python 3",
   "language": "python",
   "name": "python3"
  },
  "language_info": {
   "codemirror_mode": {
    "name": "ipython",
    "version": 3
   },
   "file_extension": ".py",
   "mimetype": "text/x-python",
   "name": "python",
   "nbconvert_exporter": "python",
   "pygments_lexer": "ipython3",
   "version": "3.7.3"
  }
 },
 "nbformat": 4,
 "nbformat_minor": 2
}
